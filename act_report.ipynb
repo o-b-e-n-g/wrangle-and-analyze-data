{
 "cells": [
  {
   "cell_type": "markdown",
   "metadata": {},
   "source": [
    "## Report: act_report"
   ]
  },
  {
   "cell_type": "markdown",
   "metadata": {},
   "source": [
    "#### This report communicates the insights and displays the visualization(s) produced from the wrangled data"
   ]
  },
  {
   "cell_type": "markdown",
   "metadata": {},
   "source": [
    "### Introduction\n",
    "Data obtained from three sources below were wrangled to obtain clean and merged into one dataset.\n",
    "1. A `twitter_archive_enhanced.csv` file which was provided directly by Udacity and downloaded directly into the working environment. \n",
    "2. An `image predictions.csv` file which is hosted on Udacity's servers and was downloaded programmatically using the Requests library. \n",
    "3. Twitter, using Python's Tweepy library to query the Twitter API for each tweet's retweet count and favorite (\"like\") count at the minimum. The tweet IDs in the `twitter_archive_enhanced.csv` file were used for the query and the results were stored in a `tweet.json.txt` file\n",
    "\n",
    "The resulting dataset was analysed to identify the following:\n",
    "* The most popular dog names\n",
    "* The source used most for tweeting\n",
    "* The breed favorited the most\n",
    "* The month in which most tweets were made"
   ]
  },
  {
   "cell_type": "markdown",
   "metadata": {},
   "source": [
    "### Insights\n",
    "\n",
    "We obtained the various `insights` from our exploration:\n",
    "1. The most popular dog names are Charlie, Lucy, Cooper and Oliver\n",
    "\n",
    "2. The twitter app was the most used source for tweets\n",
    "\n",
    "3. The most favorite dog breed was the Golden Retriever which was favourited a total of 1,106,547 times\n",
    "\n",
    "4. Most tweets were made between the months of November to January which is generally a holiday period. This possibly indicates that most people were able to engage the tweets because when they were more free, with breaks from work"
   ]
  },
  {
   "cell_type": "markdown",
   "metadata": {},
   "source": [
    "### Visualization\n",
    "The following graphs were used to visualize some of the insights drawn from the clean data:"
   ]
  },
  {
   "cell_type": "markdown",
   "metadata": {},
   "source": [
    "* A bar graph of the most popular dog names"
   ]
  },
  {
   "cell_type": "markdown",
   "metadata": {},
   "source": [
    "<img src=\"bar graph.png\" alt=\"Alternative text\" />"
   ]
  },
  {
   "cell_type": "markdown",
   "metadata": {},
   "source": [
    "* A pie chart of the most used source of tweeting"
   ]
  },
  {
   "cell_type": "markdown",
   "metadata": {},
   "source": [
    "<img src=\"pie chart.png\" alt=\"Alternative text\" />"
   ]
  },
  {
   "cell_type": "code",
   "execution_count": null,
   "metadata": {},
   "outputs": [],
   "source": []
  }
 ],
 "metadata": {
  "kernelspec": {
   "display_name": "Python 3",
   "language": "python",
   "name": "python3"
  },
  "language_info": {
   "codemirror_mode": {
    "name": "ipython",
    "version": 3
   },
   "file_extension": ".py",
   "mimetype": "text/x-python",
   "name": "python",
   "nbconvert_exporter": "python",
   "pygments_lexer": "ipython3",
   "version": "3.6.3"
  }
 },
 "nbformat": 4,
 "nbformat_minor": 2
}
